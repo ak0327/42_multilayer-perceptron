{
 "cells": [
  {
   "cell_type": "markdown",
   "metadata": {
    "collapsed": false,
    "jupyter": {
     "outputs_hidden": false
    }
   },
   "source": [
    "# L2　Regularization"
   ]
  },
  {
   "cell_type": "code",
   "execution_count": 1,
   "metadata": {
    "ExecuteTime": {
     "end_time": "2024-10-19T11:06:56.348464Z",
     "start_time": "2024-10-19T11:06:56.346224Z"
    },
    "collapsed": false,
    "jupyter": {
     "outputs_hidden": false
    }
   },
   "outputs": [],
   "source": [
    "import sys\n",
    "import os\n",
    "\n",
    "project_root = os.path.abspath(os.path.join(os.getcwd(), '..'))\n",
    "if project_root not in sys.path:\n",
    "    sys.path.insert(0, project_root)\n",
    "\n",
    "import numpy as np\n",
    "import matplotlib.pyplot as plt\n",
    "from srcs.modules.optimizer import SGD, Adam\n",
    "\n",
    "from srcs.modules.functions import Softmax, np_log, numerical_gradient\n",
    "from srcs.modules.activation import ReLU, Sigmoid\n",
    "from srcs.modules.loss import CrossEntropyLoss\n",
    "from srcs.modules.init import he_normal, xavier_normal, normal\n",
    "\n",
    "from srcs.modules.layer import Dense\n",
    "from srcs.modules.model import Sequential\n",
    "from srcs.modules.plot import plot_multiple_models\n",
    "from srcs.dataloader import get_wdbc\n",
    "from srcs.train import train_model\n",
    "from srcs import train\n",
    "\n",
    "seed = 42"
   ]
  },
  {
   "cell_type": "code",
   "execution_count": 2,
   "metadata": {
    "ExecuteTime": {
     "end_time": "2024-10-19T11:06:57.185349Z",
     "start_time": "2024-10-19T11:06:57.163414Z"
    },
    "collapsed": false,
    "jupyter": {
     "outputs_hidden": false
    }
   },
   "outputs": [],
   "source": [
    "X_train, X_valid, t_train, t_valid = get_wdbc(csv_path=\"../data/data.csv\", train_size=0.5)"
   ]
  },
  {
   "cell_type": "code",
   "execution_count": null,
   "metadata": {
    "ExecuteTime": {
     "end_time": "2024-10-19T05:08:04.733277Z",
     "start_time": "2024-10-19T05:06:43.532524Z"
    },
    "collapsed": false,
    "jupyter": {
     "outputs_hidden": false
    }
   },
   "outputs": [
    {
     "name": "stdout",
     "output_type": "stream",
     "text": [
      "\n",
      "train NoL2\n",
      "\n",
      "Metrics: \n",
      " Train [Accuracy:1.0000, Precision:1.0000, Recall:1.0000, F1:1.0000]\n",
      " Valid [Accuracy:0.9542, Precision:0.9429, Recall:0.9340, F1:0.9384]\n",
      "\n",
      "train UseL2\n"
     ]
    }
   ],
   "source": [
    "default_net = Sequential(\n",
    "    layers=[\n",
    "        Dense(in_features=30, out_features=200, activation=ReLU, init_method=normal, seed=seed),\n",
    "        Dense(in_features=200, out_features=100, activation=ReLU, init_method=normal, seed=seed),\n",
    "        Dense(in_features=100, out_features=50, activation=ReLU, init_method=normal, seed=seed),\n",
    "        Dense(in_features=50, out_features=2, activation=Softmax, init_method=normal, seed=seed)\n",
    "    ],\n",
    "    criteria=CrossEntropyLoss,\n",
    "    optimizer=Adam(lr=0.0001),\n",
    ")\n",
    "\n",
    "l2_net = Sequential(\n",
    "    layers=[\n",
    "        Dense(in_features=30, out_features=200, activation=ReLU, init_method=normal, seed=seed),\n",
    "        Dense(in_features=200, out_features=100, activation=ReLU, init_method=normal, seed=seed),\n",
    "        Dense(in_features=100, out_features=50, activation=ReLU, init_method=normal, seed=seed),\n",
    "        Dense(in_features=50, out_features=2, activation=Softmax, init_method=normal, seed=seed)\n",
    "    ],\n",
    "    criteria=CrossEntropyLoss,\n",
    "    optimizer=Adam(lr=0.0001),\n",
    "    weight_decay=0.01,\n",
    ")\n",
    "\n",
    "models = {\n",
    "    \"NoL2\"    : default_net,\n",
    "    \"UseL2\"   : l2_net\n",
    "}\n",
    "\n",
    "\n",
    "models_results = []\n",
    "max_itr = 5000\n",
    "for name, model in models.items():\n",
    "    print(f\"\\ntrain {name}\")\n",
    "    iterations, train_losses, train_accs, valid_losses, valid_accs = train_model(\n",
    "        model=model,\n",
    "        X_train=X_train,\n",
    "        t_train=t_train,\n",
    "        X_valid=X_valid,\n",
    "        t_valid=t_valid,\n",
    "        iters_num=max_itr,\n",
    "        verbose=False,\n",
    "        plot=False,\n",
    "        metrics_interval=100,\n",
    "        name=\"WDBC\"\n",
    "    )\n",
    "\n",
    "    models_results.append({\n",
    "        'name'          : name,\n",
    "        'iterations'    : iterations,\n",
    "        'train_losses'  : train_losses,\n",
    "        'train_accs'    : train_accs,\n",
    "        'valid_losses'  : valid_losses,\n",
    "        'valid_accs'    : valid_accs\n",
    "    })\n",
    "\n",
    "\n",
    "plot_multiple_models(max_itr, models_results)\n"
   ]
  },
  {
   "cell_type": "code",
   "execution_count": null,
   "metadata": {
    "ExecuteTime": {
     "end_time": "2024-10-18T12:43:24.184795Z",
     "start_time": "2024-10-18T12:43:24.168383Z"
    },
    "collapsed": false,
    "jupyter": {
     "outputs_hidden": false
    }
   },
   "outputs": [],
   "source": []
  }
 ],
 "metadata": {
  "kernelspec": {
   "display_name": "Python 3 (ipykernel)",
   "language": "python",
   "name": "python3"
  },
  "language_info": {
   "codemirror_mode": {
    "name": "ipython",
    "version": 3
   },
   "file_extension": ".py",
   "mimetype": "text/x-python",
   "name": "python",
   "nbconvert_exporter": "python",
   "pygments_lexer": "ipython3",
   "version": "3.10.15"
  }
 },
 "nbformat": 4,
 "nbformat_minor": 4
}
